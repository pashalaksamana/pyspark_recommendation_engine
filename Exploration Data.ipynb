{
 "cells": [
  {
   "cell_type": "markdown",
   "metadata": {},
   "source": [
    "# Data Exploration"
   ]
  },
  {
   "cell_type": "code",
   "execution_count": 1,
   "metadata": {},
   "outputs": [
    {
     "data": {
      "application/vnd.jupyter.widget-view+json": {
       "model_id": "0c62fa1fd5454bf5a444789fbb2ecc88",
       "version_major": 2,
       "version_minor": 0
      },
      "text/plain": [
       "VBox()"
      ]
     },
     "metadata": {},
     "output_type": "display_data"
    },
    {
     "name": "stdout",
     "output_type": "stream",
     "text": [
      "Starting Spark application\n"
     ]
    },
    {
     "data": {
      "text/html": [
       "<table>\n",
       "<tr><th>ID</th><th>YARN Application ID</th><th>Kind</th><th>State</th><th>Spark UI</th><th>Driver log</th><th>Current session?</th></tr><tr><td>5</td><td>application_1582438049660_0006</td><td>pyspark</td><td>idle</td><td><a target=\"_blank\" href=\"http://ip-172-31-72-99.ec2.internal:20888/proxy/application_1582438049660_0006/\">Link</a></td><td><a target=\"_blank\" href=\"http://ip-172-31-72-84.ec2.internal:8042/node/containerlogs/container_1582438049660_0006_01_000001/livy\">Link</a></td><td>✔</td></tr></table>"
      ],
      "text/plain": [
       "<IPython.core.display.HTML object>"
      ]
     },
     "metadata": {},
     "output_type": "display_data"
    },
    {
     "data": {
      "application/vnd.jupyter.widget-view+json": {
       "model_id": "",
       "version_major": 2,
       "version_minor": 0
      },
      "text/plain": [
       "FloatProgress(value=0.0, bar_style='info', description='Progress:', layout=Layout(height='25px', width='50%'),…"
      ]
     },
     "metadata": {},
     "output_type": "display_data"
    },
    {
     "name": "stdout",
     "output_type": "stream",
     "text": [
      "SparkSession available as 'spark'.\n"
     ]
    },
    {
     "data": {
      "application/vnd.jupyter.widget-view+json": {
       "model_id": "",
       "version_major": 2,
       "version_minor": 0
      },
      "text/plain": [
       "FloatProgress(value=0.0, bar_style='info', description='Progress:', layout=Layout(height='25px', width='50%'),…"
      ]
     },
     "metadata": {},
     "output_type": "display_data"
    }
   ],
   "source": [
    "# Starter code\n",
    "from pyspark.sql import SparkSession\n",
    "from pyspark.sql.functions import col\n",
    "from pyspark.sql import functions as f\n",
    "from pyspark.sql import types as t\n",
    "from pyspark.sql.types import StringType\n",
    "from pyspark.sql.functions import isnan, count, when, col, desc, udf, col, sort_array, asc, avg\n",
    "\n",
    "# Create spark session\n",
    "spark = SparkSession \\\n",
    "    .builder \\\n",
    "    .appName(\"Sparkify\") \\\n",
    "    .getOrCreate()\n",
    "\n",
    "# Read in full sparkify dataset\n",
    "# event_data = \"s3n://udacity-dsnd/sparkify/mini_sparkify_event_data.json\"\n",
    "event_data = \"s3n://udacity-dsnd/sparkify/sparkify_event_data.json\"\n",
    "df = spark.read.json(event_data)\n",
    "df = df.withColumn('timestamp', f.to_timestamp((df.ts/1000).cast(dataType=t.TimestampType())))\n",
    "df = df.withColumn('date', f.to_date((df.ts/1000).cast(dataType=t.TimestampType())))\n",
    "\n",
    "#create event table\n",
    "df.createOrReplaceTempView(\"event_data\")\n"
   ]
  },
  {
   "cell_type": "code",
   "execution_count": 6,
   "metadata": {},
   "outputs": [
    {
     "data": {
      "application/vnd.jupyter.widget-view+json": {
       "model_id": "04272f750a984cdbb8cd1625ce99682f",
       "version_major": 2,
       "version_minor": 0
      },
      "text/plain": [
       "VBox()"
      ]
     },
     "metadata": {},
     "output_type": "display_data"
    },
    {
     "data": {
      "application/vnd.jupyter.widget-view+json": {
       "model_id": "",
       "version_major": 2,
       "version_minor": 0
      },
      "text/plain": [
       "FloatProgress(value=0.0, bar_style='info', description='Progress:', layout=Layout(height='25px', width='50%'),…"
      ]
     },
     "metadata": {},
     "output_type": "display_data"
    },
    {
     "name": "stdout",
     "output_type": "stream",
     "text": [
      "Collecting pandas==0.25.1\n",
      "  Downloading pandas-0.25.1-cp36-cp36m-manylinux1_x86_64.whl (10.5 MB)\n",
      "Collecting python-dateutil>=2.6.1\n",
      "  Downloading python_dateutil-2.8.1-py2.py3-none-any.whl (227 kB)\n",
      "Requirement already satisfied: numpy>=1.13.3 in /usr/local/lib64/python3.6/site-packages (from pandas==0.25.1) (1.14.5)\n",
      "Requirement already satisfied: pytz>=2017.2 in /usr/local/lib/python3.6/site-packages (from pandas==0.25.1) (2019.3)\n",
      "Requirement already satisfied: six>=1.5 in /usr/local/lib/python3.6/site-packages (from python-dateutil>=2.6.1->pandas==0.25.1) (1.13.0)\n",
      "Installing collected packages: python-dateutil, pandas\n",
      "Successfully installed pandas-0.25.1 python-dateutil-2.8.1\n",
      "\n",
      "Collecting matplotlib\n",
      "  Downloading matplotlib-3.1.3-cp36-cp36m-manylinux1_x86_64.whl (13.1 MB)\n",
      "Collecting pyparsing!=2.0.4,!=2.1.2,!=2.1.6,>=2.0.1\n",
      "  Downloading pyparsing-2.4.6-py2.py3-none-any.whl (67 kB)\n",
      "Requirement already satisfied: numpy>=1.11 in /usr/local/lib64/python3.6/site-packages (from matplotlib) (1.14.5)\n",
      "Requirement already satisfied: python-dateutil>=2.1 in /mnt/tmp/1582479239729-0/lib/python3.6/site-packages (from matplotlib) (2.8.1)\n",
      "Collecting kiwisolver>=1.0.1\n",
      "  Downloading kiwisolver-1.1.0-cp36-cp36m-manylinux1_x86_64.whl (90 kB)\n",
      "Collecting cycler>=0.10\n",
      "  Downloading cycler-0.10.0-py2.py3-none-any.whl (6.5 kB)\n",
      "Requirement already satisfied: six>=1.5 in /usr/local/lib/python3.6/site-packages (from python-dateutil>=2.1->matplotlib) (1.13.0)\n",
      "Requirement already satisfied: setuptools in /mnt/tmp/1582479239729-0/lib/python3.6/site-packages (from kiwisolver>=1.0.1->matplotlib) (45.2.0)\n",
      "Installing collected packages: pyparsing, kiwisolver, cycler, matplotlib\n",
      "Successfully installed cycler-0.10.0 kiwisolver-1.1.0 matplotlib-3.1.3 pyparsing-2.4.6"
     ]
    }
   ],
   "source": [
    "sc.install_pypi_package(\"pandas==0.25.1\") #Install pandas version 0.25.1 \n",
    "sc.install_pypi_package(\"matplotlib\", \"https://pypi.org/simple\") #Install matplotlib from given PyPI repository"
   ]
  },
  {
   "cell_type": "code",
   "execution_count": 38,
   "metadata": {},
   "outputs": [
    {
     "data": {
      "application/vnd.jupyter.widget-view+json": {
       "model_id": "e6fe521ca614453a85432c8dc67855e9",
       "version_major": 2,
       "version_minor": 0
      },
      "text/plain": [
       "VBox()"
      ]
     },
     "metadata": {},
     "output_type": "display_data"
    },
    {
     "data": {
      "application/vnd.jupyter.widget-view+json": {
       "model_id": "",
       "version_major": 2,
       "version_minor": 0
      },
      "text/plain": [
       "FloatProgress(value=0.0, bar_style='info', description='Progress:', layout=Layout(height='25px', width='50%'),…"
      ]
     },
     "metadata": {},
     "output_type": "display_data"
    }
   ],
   "source": [
    "import pandas as pd\n",
    "import matplotlib.pyplot as plt\n"
   ]
  },
  {
   "cell_type": "code",
   "execution_count": 2,
   "metadata": {},
   "outputs": [
    {
     "data": {
      "application/vnd.jupyter.widget-view+json": {
       "model_id": "6ce6d026d56747a8b453470b19f618b8",
       "version_major": 2,
       "version_minor": 0
      },
      "text/plain": [
       "VBox()"
      ]
     },
     "metadata": {},
     "output_type": "display_data"
    },
    {
     "data": {
      "application/vnd.jupyter.widget-view+json": {
       "model_id": "",
       "version_major": 2,
       "version_minor": 0
      },
      "text/plain": [
       "FloatProgress(value=0.0, bar_style='info', description='Progress:', layout=Layout(height='25px', width='50%'),…"
      ]
     },
     "metadata": {},
     "output_type": "display_data"
    },
    {
     "name": "stdout",
     "output_type": "stream",
     "text": [
      "root\n",
      " |-- artist: string (nullable = true)\n",
      " |-- auth: string (nullable = true)\n",
      " |-- firstName: string (nullable = true)\n",
      " |-- gender: string (nullable = true)\n",
      " |-- itemInSession: long (nullable = true)\n",
      " |-- lastName: string (nullable = true)\n",
      " |-- length: double (nullable = true)\n",
      " |-- level: string (nullable = true)\n",
      " |-- location: string (nullable = true)\n",
      " |-- method: string (nullable = true)\n",
      " |-- page: string (nullable = true)\n",
      " |-- registration: long (nullable = true)\n",
      " |-- sessionId: long (nullable = true)\n",
      " |-- song: string (nullable = true)\n",
      " |-- status: long (nullable = true)\n",
      " |-- ts: long (nullable = true)\n",
      " |-- userAgent: string (nullable = true)\n",
      " |-- userId: string (nullable = true)\n",
      " |-- timestamp: timestamp (nullable = true)\n",
      " |-- date: date (nullable = true)"
     ]
    }
   ],
   "source": [
    "df.printSchema()"
   ]
  },
  {
   "cell_type": "code",
   "execution_count": 5,
   "metadata": {},
   "outputs": [
    {
     "data": {
      "application/vnd.jupyter.widget-view+json": {
       "model_id": "25fcd5e5c61e42ecb6ea4c8612a072e8",
       "version_major": 2,
       "version_minor": 0
      },
      "text/plain": [
       "VBox()"
      ]
     },
     "metadata": {},
     "output_type": "display_data"
    },
    {
     "data": {
      "application/vnd.jupyter.widget-view+json": {
       "model_id": "",
       "version_major": 2,
       "version_minor": 0
      },
      "text/plain": [
       "FloatProgress(value=0.0, bar_style='info', description='Progress:', layout=Layout(height='25px', width='50%'),…"
      ]
     },
     "metadata": {},
     "output_type": "display_data"
    },
    {
     "name": "stdout",
     "output_type": "stream",
     "text": [
      "Row(artist='Popol Vuh', auth='Logged In', firstName='Shlok', gender='M', itemInSession=278, lastName='Johnson', length=524.32934, level='paid', location='Dallas-Fort Worth-Arlington, TX', method='PUT', page='NextSong', registration=1533734541000, sessionId=22683, song='Ich mache einen Spiegel - Dream Part 4', status=200, ts=1538352001000, userAgent='\"Mozilla/5.0 (Windows NT 6.1; WOW64) AppleWebKit/537.36 (KHTML, like Gecko) Chrome/36.0.1985.143 Safari/537.36\"', userId='1749042', timestamp=datetime.datetime(2018, 10, 1, 0, 0, 1), date=datetime.date(2018, 10, 1))"
     ]
    }
   ],
   "source": [
    "df.head()"
   ]
  },
  {
   "cell_type": "code",
   "execution_count": 7,
   "metadata": {},
   "outputs": [
    {
     "data": {
      "application/vnd.jupyter.widget-view+json": {
       "model_id": "1a5c2e6ea3d340ccb5f25cefa38b65bc",
       "version_major": 2,
       "version_minor": 0
      },
      "text/plain": [
       "VBox()"
      ]
     },
     "metadata": {},
     "output_type": "display_data"
    },
    {
     "data": {
      "application/vnd.jupyter.widget-view+json": {
       "model_id": "",
       "version_major": 2,
       "version_minor": 0
      },
      "text/plain": [
       "FloatProgress(value=0.0, bar_style='info', description='Progress:', layout=Layout(height='25px', width='50%'),…"
      ]
     },
     "metadata": {},
     "output_type": "display_data"
    }
   ],
   "source": [
    "# Identify page\n",
    "df_page_count = spark.sql('''\n",
    "            select distinct page, count(*) as n_event\n",
    "            from event_data\n",
    "            group by 1\n",
    "            order by 2\n",
    "            ''').toPandas()"
   ]
  },
  {
   "cell_type": "code",
   "execution_count": 23,
   "metadata": {},
   "outputs": [
    {
     "data": {
      "application/vnd.jupyter.widget-view+json": {
       "model_id": "d8d24510a4a340d2b009d41b2a923fb9",
       "version_major": 2,
       "version_minor": 0
      },
      "text/plain": [
       "VBox()"
      ]
     },
     "metadata": {},
     "output_type": "display_data"
    },
    {
     "data": {
      "application/vnd.jupyter.widget-view+json": {
       "model_id": "",
       "version_major": 2,
       "version_minor": 0
      },
      "text/plain": [
       "FloatProgress(value=0.0, bar_style='info', description='Progress:', layout=Layout(height='25px', width='50%'),…"
      ]
     },
     "metadata": {},
     "output_type": "display_data"
    },
    {
     "data": {
      "image/png": "[encoded data removed]",
      "text/plain": [
       "<IPython.core.display.Image object>"
      ]
     },
     "metadata": {},
     "output_type": "display_data"
    }
   ],
   "source": [
    "df_page_count.plot(x='page',kind='barh')\n",
    "plt.tight_layout()\n",
    "%matplot plt"
   ]
  },
  {
   "cell_type": "code",
   "execution_count": 25,
   "metadata": {},
   "outputs": [
    {
     "data": {
      "application/vnd.jupyter.widget-view+json": {
       "model_id": "d66529c8f8434258af7bf65d3df4ffb2",
       "version_major": 2,
       "version_minor": 0
      },
      "text/plain": [
       "VBox()"
      ]
     },
     "metadata": {},
     "output_type": "display_data"
    },
    {
     "data": {
      "application/vnd.jupyter.widget-view+json": {
       "model_id": "",
       "version_major": 2,
       "version_minor": 0
      },
      "text/plain": [
       "FloatProgress(value=0.0, bar_style='info', description='Progress:', layout=Layout(height='25px', width='50%'),…"
      ]
     },
     "metadata": {},
     "output_type": "display_data"
    },
    {
     "data": {
      "image/png": "[encoded data removed]",
      "text/plain": [
       "<IPython.core.display.Image object>"
      ]
     },
     "metadata": {},
     "output_type": "display_data"
    }
   ],
   "source": [
    "df_page_count[df_page_count['page'].isin(('Thumbs Up','Thumbs Down'))].plot(x='page',kind='barh')\n",
    "plt.tight_layout()\n",
    "%matplot plt"
   ]
  },
  {
   "cell_type": "code",
   "execution_count": 27,
   "metadata": {},
   "outputs": [
    {
     "data": {
      "application/vnd.jupyter.widget-view+json": {
       "model_id": "1f3789c0ae5d45399bd16408dce08f43",
       "version_major": 2,
       "version_minor": 0
      },
      "text/plain": [
       "VBox()"
      ]
     },
     "metadata": {},
     "output_type": "display_data"
    },
    {
     "data": {
      "application/vnd.jupyter.widget-view+json": {
       "model_id": "",
       "version_major": 2,
       "version_minor": 0
      },
      "text/plain": [
       "FloatProgress(value=0.0, bar_style='info', description='Progress:', layout=Layout(height='25px', width='50%'),…"
      ]
     },
     "metadata": {},
     "output_type": "display_data"
    },
    {
     "name": "stdout",
     "output_type": "stream",
     "text": [
      "+-------+------+----+-----------+-------------+\n",
      "| userId|artist|song|       page|           ts|\n",
      "+-------+------+----+-----------+-------------+\n",
      "|1526624|  null|null|  Thumbs Up|1538352011000|\n",
      "|1915980|  null|null|  Thumbs Up|1538352016000|\n",
      "|1467665|  null|null|  Thumbs Up|1538352036000|\n",
      "|1525594|  null|null|  Thumbs Up|1538352074000|\n",
      "|1923638|  null|null|Thumbs Down|1538352083000|\n",
      "|1059560|  null|null|Thumbs Down|1538352086000|\n",
      "|1822046|  null|null|  Thumbs Up|1538352089000|\n",
      "|1916157|  null|null|  Thumbs Up|1538352090000|\n",
      "|1841647|  null|null|  Thumbs Up|1538352096000|\n",
      "|1196855|  null|null|  Thumbs Up|1538352108000|\n",
      "|1911021|  null|null|  Thumbs Up|1538352133000|\n",
      "|1455101|  null|null|  Thumbs Up|1538352138000|\n",
      "|1784351|  null|null|  Thumbs Up|1538352157000|\n",
      "|1090733|  null|null|  Thumbs Up|1538352160000|\n",
      "|1447418|  null|null|  Thumbs Up|1538352190000|\n",
      "|1588246|  null|null|Thumbs Down|1538352224000|\n",
      "|1689309|  null|null|  Thumbs Up|1538352234000|\n",
      "|1682050|  null|null|  Thumbs Up|1538352235000|\n",
      "|1840596|  null|null|  Thumbs Up|1538352236000|\n",
      "|1137339|  null|null|  Thumbs Up|1538352299000|\n",
      "+-------+------+----+-----------+-------------+\n",
      "only showing top 20 rows"
     ]
    }
   ],
   "source": [
    "spark.sql('''\n",
    "            select userId,artist,song,page,ts\n",
    "            from event_data\n",
    "            where page in ('Thumbs Up','Thumbs Down')\n",
    "            ''').show()"
   ]
  },
  {
   "cell_type": "markdown",
   "metadata": {},
   "source": [
    "### Data Preprocessing\n",
    "If we see from above, Thumbs Up data do not contain song value. Therefore we need some data preprocessing to capture the song value.\n",
    "\n",
    "Next I found that the song value is exist in NextSong event before the Thumbs Up event."
   ]
  },
  {
   "cell_type": "code",
   "execution_count": 29,
   "metadata": {},
   "outputs": [
    {
     "data": {
      "application/vnd.jupyter.widget-view+json": {
       "model_id": "7c285cfc414c469cbe9078988fa7ea93",
       "version_major": 2,
       "version_minor": 0
      },
      "text/plain": [
       "VBox()"
      ]
     },
     "metadata": {},
     "output_type": "display_data"
    },
    {
     "data": {
      "application/vnd.jupyter.widget-view+json": {
       "model_id": "",
       "version_major": 2,
       "version_minor": 0
      },
      "text/plain": [
       "FloatProgress(value=0.0, bar_style='info', description='Progress:', layout=Layout(height='25px', width='50%'),…"
      ]
     },
     "metadata": {},
     "output_type": "display_data"
    },
    {
     "name": "stdout",
     "output_type": "stream",
     "text": [
      "+-------+--------------------+--------------------+---------+-------------+\n",
      "| userId|              artist|                song|     page|           ts|\n",
      "+-------+--------------------+--------------------+---------+-------------+\n",
      "|1526624|   Nortec Collective|      Olvidela Compa| NextSong|1538352010000|\n",
      "|1526624|                null|                null|Thumbs Up|1538352011000|\n",
      "|1526624|         The Killers|Smile Like You Me...| NextSong|1538352277000|\n",
      "|1526624|        Marc Anthony|           Si Te Vas| NextSong|1538352661000|\n",
      "|1526624|        Way Out West|     Northern Lights| NextSong|1538352947000|\n",
      "|1526624|             50 Cent|                Heat| NextSong|1538353412000|\n",
      "|1526624|        Rise Against|     Swing Life Away| NextSong|1538353666000|\n",
      "|1526624|Carter The Unstop...|Growing Old Disgr...| NextSong|1538353866000|\n",
      "|1526624|                null|                null|Thumbs Up|1538353867000|\n",
      "|1526624|               Campo|             Perfume| NextSong|1538354060000|\n",
      "|1526624|        Ronski Speed|            Are You?| NextSong|1538354367000|\n",
      "|1526624|            DJ Dizzy|          Sexy Bitch| NextSong|1538354814000|\n",
      "|1526624|             America|              Golden| NextSong|1538355035000|\n",
      "|1526624|Suburban Kids Wit...|      Shitty Weekend| NextSong|1538355292000|\n",
      "|1526624|           Holy Fuck|           Frenchy\u0019s| NextSong|1538355455000|\n",
      "|1526624|       Smokie Norful|    Run Til I Finish| NextSong|1538355629000|\n",
      "|1526624|       Michael Cretu|   The Invisible Man| NextSong|1538355816000|\n",
      "|1526624|              Eminem|          Without Me| NextSong|1538356117000|\n",
      "|1526624|                null|                null|Thumbs Up|1538356118000|\n",
      "|1526624|        Rise Against|            Roadside| NextSong|1538356368000|\n",
      "+-------+--------------------+--------------------+---------+-------------+\n",
      "only showing top 20 rows"
     ]
    }
   ],
   "source": [
    "spark.sql('''\n",
    "            select userId,artist,song,page,ts\n",
    "            from event_data\n",
    "            where page in ('Thumbs Up','NextSong','Thumbs Down')\n",
    "            and userId= '1526624'\n",
    "            order by ts\n",
    "            ''').show()"
   ]
  },
  {
   "cell_type": "markdown",
   "metadata": {},
   "source": [
    "###### Utilising Lag Function\n",
    "Following query is utilising the lag function in the sql to capture the song value in the event before Thumbs Up or Thumbs Down. From here I created new dataframe to keep only song, userid, and its value (1 for Thumbs Up, 0 for Thumbs Down)"
   ]
  },
  {
   "cell_type": "code",
   "execution_count": 30,
   "metadata": {},
   "outputs": [
    {
     "data": {
      "application/vnd.jupyter.widget-view+json": {
       "model_id": "70fd94dce34c48d38da4a350842933d3",
       "version_major": 2,
       "version_minor": 0
      },
      "text/plain": [
       "VBox()"
      ]
     },
     "metadata": {},
     "output_type": "display_data"
    },
    {
     "data": {
      "application/vnd.jupyter.widget-view+json": {
       "model_id": "",
       "version_major": 2,
       "version_minor": 0
      },
      "text/plain": [
       "FloatProgress(value=0.0, bar_style='info', description='Progress:', layout=Layout(height='25px', width='50%'),…"
      ]
     },
     "metadata": {},
     "output_type": "display_data"
    },
    {
     "name": "stdout",
     "output_type": "stream",
     "text": [
      "+-------+--------------------+-----+\n",
      "| userId|                song|value|\n",
      "+-------+--------------------+-----+\n",
      "|1000025|    17 Hippies-Adieu|1.000|\n",
      "|1000025|A Day To Remember...|1.000|\n",
      "|1000025|A Rocket To The M...|0.000|\n",
      "|1000025|Aaron Shust-Give ...|1.000|\n",
      "|1000025|Afroman-Crazy Rap...|1.000|\n",
      "|1000025|Air France-Windmi...|1.000|\n",
      "|1000025|Alan Silvestri-Ou...|0.000|\n",
      "|1000025|Alicia Keys-Un-th...|1.000|\n",
      "|1000025|Alliance Ethnik-S...|1.000|\n",
      "|1000025|Andres Calamaro-L...|1.000|\n",
      "|1000025|  Andrew Bird-Effigy|1.000|\n",
      "|1000025|B.o.B-Nothin' On ...|1.000|\n",
      "|1000025|Barry Tuckwell/Ac...|1.000|\n",
      "|1000025|Bellatrax feat. T...|1.000|\n",
      "|1000025|     BeyoncÃÂ©-Halo|1.000|\n",
      "|1000025|Big Drill Car-The...|1.000|\n",
      "|1000025|Bitter Sweet-Suga...|1.000|\n",
      "|1000025|  Bloc Party-Banquet|0.000|\n",
      "|1000025|    Bo Diddley-Pills|1.000|\n",
      "|1000025|Boys Noize-Shine ...|1.000|\n",
      "+-------+--------------------+-----+\n",
      "only showing top 20 rows"
     ]
    }
   ],
   "source": [
    "df_rating = spark.sql('''\n",
    "            with get_song_data as (\n",
    "            select timestamp,artist, song, userId,page,\n",
    "                lag( song,1) over (partition by userId order by timestamp) as lag_song,\n",
    "                lag( artist,1) over (partition by userId order by timestamp) as lag_artist\n",
    "            from event_data\n",
    "            where page in ('NextSong','Thumbs Up','Thumbs Down','Add to Playlist')\n",
    "            order by timestamp\n",
    "            )\n",
    "            select \n",
    "                    userId,\n",
    "                    concat(lag_artist,'-',lag_song) as song,\n",
    "        \n",
    "                    min(\n",
    "                    case when page = 'Thumbs Up' then 1.000 \n",
    "                         when page = 'Thumbs Down' then 0\n",
    "                    end )\n",
    "                    as value\n",
    "            from get_song_data\n",
    "            where page in ('Thumbs Up','Thumbs Down')\n",
    "                  and lag_song is not NULL\n",
    "                  and lag_artist is not NULL\n",
    "            group by 1,2\n",
    "            order by 1,2\n",
    "            ''')\n",
    "\n",
    "df_rating.show()\n",
    "df_rating.createOrReplaceTempView(\"dataset\")"
   ]
  },
  {
   "cell_type": "markdown",
   "metadata": {},
   "source": [
    "#### Statistics of User Ratings"
   ]
  },
  {
   "cell_type": "code",
   "execution_count": 32,
   "metadata": {},
   "outputs": [
    {
     "data": {
      "application/vnd.jupyter.widget-view+json": {
       "model_id": "f14f3354ff804c5e90a48b412dd86a52",
       "version_major": 2,
       "version_minor": 0
      },
      "text/plain": [
       "VBox()"
      ]
     },
     "metadata": {},
     "output_type": "display_data"
    },
    {
     "data": {
      "application/vnd.jupyter.widget-view+json": {
       "model_id": "",
       "version_major": 2,
       "version_minor": 0
      },
      "text/plain": [
       "FloatProgress(value=0.0, bar_style='info', description='Progress:', layout=Layout(height='25px', width='50%'),…"
      ]
     },
     "metadata": {},
     "output_type": "display_data"
    },
    {
     "name": "stdout",
     "output_type": "stream",
     "text": [
      "+----------------------+--------------------+\n",
      "|count(DISTINCT userId)|count(DISTINCT song)|\n",
      "+----------------------+--------------------+\n",
      "|                 21866|              151499|\n",
      "+----------------------+--------------------+"
     ]
    }
   ],
   "source": [
    "spark.sql('''\n",
    "    select count(distinct userId),count(distinct song)\n",
    "    from dataset\n",
    "''').show()"
   ]
  },
  {
   "cell_type": "code",
   "execution_count": 36,
   "metadata": {},
   "outputs": [
    {
     "data": {
      "application/vnd.jupyter.widget-view+json": {
       "model_id": "cbe196b98b2d46948dce433ab0aeb83e",
       "version_major": 2,
       "version_minor": 0
      },
      "text/plain": [
       "VBox()"
      ]
     },
     "metadata": {},
     "output_type": "display_data"
    },
    {
     "data": {
      "application/vnd.jupyter.widget-view+json": {
       "model_id": "",
       "version_major": 2,
       "version_minor": 0
      },
      "text/plain": [
       "FloatProgress(value=0.0, bar_style='info', description='Progress:', layout=Layout(height='25px', width='50%'),…"
      ]
     },
     "metadata": {},
     "output_type": "display_data"
    },
    {
     "name": "stdout",
     "output_type": "stream",
     "text": [
      "+------------------+------------------+-------------+-------------+-------------+------------------+\n",
      "|average_song_rated|minimum_song_rated|percentile_25|percentile_50|percentile_75|maximum_song_rated|\n",
      "+------------------+------------------+-------------+-------------+-------------+------------------+\n",
      "| 62.34674837647489|                 1|           15|           37|           92|               855|\n",
      "+------------------+------------------+-------------+-------------+-------------+------------------+"
     ]
    }
   ],
   "source": [
    "spark.sql('''\n",
    "    with count_rated_song as (\n",
    "    select userId,count(song) as rated_song\n",
    "    from dataset\n",
    "    group by 1)\n",
    "    select \n",
    "    avg(rated_song) as average_song_rated,\n",
    "    min(rated_song)               as minimum_song_rated,\n",
    "    approx_percentile(rated_song, 0.25, 100) as percentile_25,\n",
    "    approx_percentile(rated_song, 0.50, 100) as percentile_50,\n",
    "    approx_percentile(rated_song, 0.75, 100) as percentile_75,\n",
    "    max(rated_song) as maximum_song_rated\n",
    "    from count_rated_song\n",
    "    \n",
    "''').show()"
   ]
  },
  {
   "cell_type": "code",
   "execution_count": 37,
   "metadata": {},
   "outputs": [
    {
     "data": {
      "application/vnd.jupyter.widget-view+json": {
       "model_id": "be2f85f808a94e3f8f0e9d26d308219e",
       "version_major": 2,
       "version_minor": 0
      },
      "text/plain": [
       "VBox()"
      ]
     },
     "metadata": {},
     "output_type": "display_data"
    },
    {
     "data": {
      "application/vnd.jupyter.widget-view+json": {
       "model_id": "",
       "version_major": 2,
       "version_minor": 0
      },
      "text/plain": [
       "FloatProgress(value=0.0, bar_style='info', description='Progress:', layout=Layout(height='25px', width='50%'),…"
      ]
     },
     "metadata": {},
     "output_type": "display_data"
    },
    {
     "name": "stdout",
     "output_type": "stream",
     "text": [
      "+---------------------+---------------------+-------------+-------------+-------------+---------------------+\n",
      "|average_n_user_rating|minimum_n_user_rating|percentile_25|percentile_50|percentile_75|maximum_n_user_rating|\n",
      "+---------------------+---------------------+-------------+-------------+-------------+---------------------+\n",
      "|    8.998567647311203|                    1|            1|            2|            6|                 5137|\n",
      "+---------------------+---------------------+-------------+-------------+-------------+---------------------+"
     ]
    }
   ],
   "source": [
    "spark.sql('''\n",
    "    with count_rated_song as (\n",
    "    select song,count(userId) as user_rating\n",
    "    from dataset\n",
    "    group by 1)\n",
    "    select \n",
    "    avg(user_rating) as average_n_user_rating,\n",
    "    min(user_rating)               as minimum_n_user_rating,\n",
    "    approx_percentile(user_rating, 0.25, 100) as percentile_25,\n",
    "    approx_percentile(user_rating, 0.50, 100) as percentile_50,\n",
    "    approx_percentile(user_rating, 0.75, 100) as percentile_75,\n",
    "    max(user_rating) as maximum_n_user_rating\n",
    "    from count_rated_song\n",
    "    \n",
    "''').show()"
   ]
  },
  {
   "cell_type": "code",
   "execution_count": null,
   "metadata": {},
   "outputs": [],
   "source": []
  }
 ],
 "metadata": {
  "kernelspec": {
   "display_name": "PySpark",
   "language": "",
   "name": "pysparkkernel"
  },
  "language_info": {
   "codemirror_mode": {
    "name": "python",
    "version": 2
   },
   "mimetype": "text/x-python",
   "name": "pyspark",
   "pygments_lexer": "python2"
  }
 },
 "nbformat": 4,
 "nbformat_minor": 2
}
