{
 "cells": [
  {
   "cell_type": "markdown",
   "metadata": {},
   "source": [
    "# Music Recommendation Engine"
   ]
  },
  {
   "cell_type": "code",
   "execution_count": 1,
   "metadata": {},
   "outputs": [
    {
     "data": {
      "application/vnd.jupyter.widget-view+json": {
       "model_id": "cd48522fd1ba4a8b858dd3f3b0a293dd",
       "version_major": 2,
       "version_minor": 0
      },
      "text/plain": [
       "VBox()"
      ]
     },
     "metadata": {},
     "output_type": "display_data"
    },
    {
     "name": "stdout",
     "output_type": "stream",
     "text": [
      "Starting Spark application\n"
     ]
    },
    {
     "data": {
      "text/html": [
       "<table>\n",
       "<tr><th>ID</th><th>YARN Application ID</th><th>Kind</th><th>State</th><th>Spark UI</th><th>Driver log</th><th>Current session?</th></tr><tr><td>4</td><td>application_1582438049660_0005</td><td>pyspark</td><td>idle</td><td><a target=\"_blank\" href=\"http://ip-172-31-72-99.ec2.internal:20888/proxy/application_1582438049660_0005/\">Link</a></td><td><a target=\"_blank\" href=\"http://ip-172-31-76-251.ec2.internal:8042/node/containerlogs/container_1582438049660_0005_01_000001/livy\">Link</a></td><td>✔</td></tr></table>"
      ],
      "text/plain": [
       "<IPython.core.display.HTML object>"
      ]
     },
     "metadata": {},
     "output_type": "display_data"
    },
    {
     "data": {
      "application/vnd.jupyter.widget-view+json": {
       "model_id": "",
       "version_major": 2,
       "version_minor": 0
      },
      "text/plain": [
       "FloatProgress(value=0.0, bar_style='info', description='Progress:', layout=Layout(height='25px', width='50%'),…"
      ]
     },
     "metadata": {},
     "output_type": "display_data"
    },
    {
     "name": "stdout",
     "output_type": "stream",
     "text": [
      "SparkSession available as 'spark'.\n"
     ]
    },
    {
     "data": {
      "application/vnd.jupyter.widget-view+json": {
       "model_id": "",
       "version_major": 2,
       "version_minor": 0
      },
      "text/plain": [
       "FloatProgress(value=0.0, bar_style='info', description='Progress:', layout=Layout(height='25px', width='50%'),…"
      ]
     },
     "metadata": {},
     "output_type": "display_data"
    }
   ],
   "source": [
    "# Starter code\n",
    "from pyspark.sql import SparkSession\n",
    "from pyspark.sql.functions import col\n",
    "from pyspark.sql import functions as f\n",
    "from pyspark.sql import types as t\n",
    "from pyspark.sql.types import StringType\n",
    "from pyspark.sql.functions import isnan, count, when, col, desc, udf, col, sort_array, asc, avg\n",
    "\n",
    "# Create spark session\n",
    "spark = SparkSession \\\n",
    "    .builder \\\n",
    "    .appName(\"Sparkify\") \\\n",
    "    .getOrCreate()\n",
    "\n",
    "# Read in full sparkify dataset\n",
    "# event_data = \"s3n://udacity-dsnd/sparkify/mini_sparkify_event_data.json\"\n",
    "event_data = \"s3n://udacity-dsnd/sparkify/sparkify_event_data.json\"\n",
    "df = spark.read.json(event_data)\n",
    "df = df.withColumn('timestamp', f.to_timestamp((df.ts/1000).cast(dataType=t.TimestampType())))\n",
    "df = df.withColumn('date', f.to_date((df.ts/1000).cast(dataType=t.TimestampType())))\n",
    "\n",
    "#create event table\n",
    "df.createOrReplaceTempView(\"event_data\")\n"
   ]
  },
  {
   "cell_type": "markdown",
   "metadata": {},
   "source": [
    "## Data Preprocessing"
   ]
  },
  {
   "cell_type": "markdown",
   "metadata": {},
   "source": [
    "##### 1. Capture Song - User Value"
   ]
  },
  {
   "cell_type": "code",
   "execution_count": 2,
   "metadata": {},
   "outputs": [
    {
     "data": {
      "application/vnd.jupyter.widget-view+json": {
       "model_id": "bea239ecc5014d0997ea293d248cc3f9",
       "version_major": 2,
       "version_minor": 0
      },
      "text/plain": [
       "VBox()"
      ]
     },
     "metadata": {},
     "output_type": "display_data"
    },
    {
     "data": {
      "application/vnd.jupyter.widget-view+json": {
       "model_id": "",
       "version_major": 2,
       "version_minor": 0
      },
      "text/plain": [
       "FloatProgress(value=0.0, bar_style='info', description='Progress:', layout=Layout(height='25px', width='50%'),…"
      ]
     },
     "metadata": {},
     "output_type": "display_data"
    },
    {
     "name": "stdout",
     "output_type": "stream",
     "text": [
      "+-------+--------------------+-----+\n",
      "| userId|                song|value|\n",
      "+-------+--------------------+-----+\n",
      "|1000025|    17 Hippies-Adieu|1.000|\n",
      "|1000025|A Day To Remember...|1.000|\n",
      "|1000025|A Rocket To The M...|0.000|\n",
      "|1000025|Aaron Shust-Give ...|1.000|\n",
      "|1000025|Afroman-Crazy Rap...|1.000|\n",
      "|1000025|Air France-Windmi...|1.000|\n",
      "|1000025|Alan Silvestri-Ou...|0.000|\n",
      "|1000025|Alicia Keys-Un-th...|1.000|\n",
      "|1000025|Alliance Ethnik-S...|1.000|\n",
      "|1000025|Andres Calamaro-L...|1.000|\n",
      "|1000025|  Andrew Bird-Effigy|1.000|\n",
      "|1000025|B.o.B-Nothin' On ...|1.000|\n",
      "|1000025|Barry Tuckwell/Ac...|1.000|\n",
      "|1000025|Bellatrax feat. T...|1.000|\n",
      "|1000025|     BeyoncÃÂ©-Halo|1.000|\n",
      "|1000025|Big Drill Car-The...|1.000|\n",
      "|1000025|Bitter Sweet-Suga...|1.000|\n",
      "|1000025|  Bloc Party-Banquet|0.000|\n",
      "|1000025|    Bo Diddley-Pills|1.000|\n",
      "|1000025|Boys Noize-Shine ...|1.000|\n",
      "+-------+--------------------+-----+\n",
      "only showing top 20 rows"
     ]
    }
   ],
   "source": [
    "# we will value 1 and 0 for the thumbs up or thumbs down music respectively.\n",
    "\n",
    "df_rating = spark.sql('''\n",
    "            with get_song_data as (\n",
    "            select timestamp,artist, song, userId,page,\n",
    "                lag( song,1) over (partition by userId order by timestamp) as lag_song,\n",
    "                lag( artist,1) over (partition by userId order by timestamp) as lag_artist\n",
    "            from event_data\n",
    "            where page in ('NextSong','Thumbs Up','Thumbs Down','Add to Playlist')\n",
    "            order by timestamp\n",
    "            )\n",
    "            select \n",
    "                    userId,\n",
    "                    concat(lag_artist,'-',lag_song) as song,\n",
    "        \n",
    "                    min(\n",
    "                    case when page = 'Thumbs Up' then 1.000 \n",
    "                         when page = 'Thumbs Down' then 0\n",
    "                    end )\n",
    "                    as value\n",
    "            from get_song_data\n",
    "            where page in ('Thumbs Up','Thumbs Down')\n",
    "                  and lag_song is not NULL\n",
    "                  and lag_artist is not NULL\n",
    "            group by 1,2\n",
    "            order by 1,2\n",
    "            ''')\n",
    "\n",
    "df_rating.show()\n",
    "df_rating.createOrReplaceTempView(\"dataset\")"
   ]
  },
  {
   "cell_type": "markdown",
   "metadata": {},
   "source": [
    "##### 2. Create Index for song"
   ]
  },
  {
   "cell_type": "code",
   "execution_count": 3,
   "metadata": {},
   "outputs": [
    {
     "data": {
      "application/vnd.jupyter.widget-view+json": {
       "model_id": "9c02813aa1d04a978ebad6979859a287",
       "version_major": 2,
       "version_minor": 0
      },
      "text/plain": [
       "VBox()"
      ]
     },
     "metadata": {},
     "output_type": "display_data"
    },
    {
     "data": {
      "application/vnd.jupyter.widget-view+json": {
       "model_id": "",
       "version_major": 2,
       "version_minor": 0
      },
      "text/plain": [
       "FloatProgress(value=0.0, bar_style='info', description='Progress:', layout=Layout(height='25px', width='50%'),…"
      ]
     },
     "metadata": {},
     "output_type": "display_data"
    }
   ],
   "source": [
    "from pyspark.ml.feature import RegexTokenizer, CountVectorizer, \\\n",
    "    IDF, StringIndexer\n",
    "\n",
    "indexer = StringIndexer(inputCol=\"song\", outputCol=\"songId\")\n",
    "df_rating = indexer.fit(df_rating).transform(df_rating)"
   ]
  },
  {
   "cell_type": "markdown",
   "metadata": {},
   "source": [
    "##### 3. Cast userId as Integer "
   ]
  },
  {
   "cell_type": "code",
   "execution_count": 4,
   "metadata": {},
   "outputs": [
    {
     "data": {
      "application/vnd.jupyter.widget-view+json": {
       "model_id": "4bf09e30ffe74e7fa9749afe6fb9f7df",
       "version_major": 2,
       "version_minor": 0
      },
      "text/plain": [
       "VBox()"
      ]
     },
     "metadata": {},
     "output_type": "display_data"
    },
    {
     "data": {
      "application/vnd.jupyter.widget-view+json": {
       "model_id": "",
       "version_major": 2,
       "version_minor": 0
      },
      "text/plain": [
       "FloatProgress(value=0.0, bar_style='info', description='Progress:', layout=Layout(height='25px', width='50%'),…"
      ]
     },
     "metadata": {},
     "output_type": "display_data"
    }
   ],
   "source": [
    "from pyspark.sql.types import DoubleType,IntegerType\n",
    "df_rating = df_rating.withColumn(\"userId\", df_rating[\"userId\"].cast(IntegerType()))"
   ]
  },
  {
   "cell_type": "code",
   "execution_count": 7,
   "metadata": {},
   "outputs": [
    {
     "data": {
      "application/vnd.jupyter.widget-view+json": {
       "model_id": "4e075c7c0ed2492789d02c550250d2b4",
       "version_major": 2,
       "version_minor": 0
      },
      "text/plain": [
       "VBox()"
      ]
     },
     "metadata": {},
     "output_type": "display_data"
    },
    {
     "data": {
      "application/vnd.jupyter.widget-view+json": {
       "model_id": "",
       "version_major": 2,
       "version_minor": 0
      },
      "text/plain": [
       "FloatProgress(value=0.0, bar_style='info', description='Progress:', layout=Layout(height='25px', width='50%'),…"
      ]
     },
     "metadata": {},
     "output_type": "display_data"
    },
    {
     "name": "stdout",
     "output_type": "stream",
     "text": [
      "root\n",
      " |-- userId: integer (nullable = true)\n",
      " |-- song: string (nullable = true)\n",
      " |-- value: decimal(13,3) (nullable = true)\n",
      " |-- songId: double (nullable = false)"
     ]
    }
   ],
   "source": [
    "df_rating.printSchema()"
   ]
  },
  {
   "cell_type": "markdown",
   "metadata": {},
   "source": [
    "## Build Training, Tuning, and Evaluating Function"
   ]
  },
  {
   "cell_type": "code",
   "execution_count": 12,
   "metadata": {},
   "outputs": [
    {
     "data": {
      "application/vnd.jupyter.widget-view+json": {
       "model_id": "508898f8daec4d009fc6c06a4f162f42",
       "version_major": 2,
       "version_minor": 0
      },
      "text/plain": [
       "VBox()"
      ]
     },
     "metadata": {},
     "output_type": "display_data"
    },
    {
     "data": {
      "application/vnd.jupyter.widget-view+json": {
       "model_id": "",
       "version_major": 2,
       "version_minor": 0
      },
      "text/plain": [
       "FloatProgress(value=0.0, bar_style='info', description='Progress:', layout=Layout(height='25px', width='50%'),…"
      ]
     },
     "metadata": {},
     "output_type": "display_data"
    }
   ],
   "source": [
    "from pyspark.ml.recommendation import ALS\n",
    "from pyspark.ml.evaluation import RegressionEvaluator\n",
    "import pyspark.sql.functions as func\n",
    "\n",
    "def tune_ALS(train_data, validation_data, maxIter, regParams, ranks):\n",
    "    \"\"\"\n",
    "    grid search function to select the best model based on RMSE of\n",
    "    validation data\n",
    "    Parameters\n",
    "    ----------\n",
    "    train_data: spark DF with columns ['userId', 'movieId', 'rating']\n",
    "    \n",
    "    validation_data: spark DF with columns ['userId', 'movieId', 'rating']\n",
    "    \n",
    "    maxIter: int, max number of learning iterations\n",
    "    \n",
    "    regParams: list of float, one dimension of hyper-param tuning grid\n",
    "    \n",
    "    ranks: list of float, one dimension of hyper-param tuning grid\n",
    "    \n",
    "    Return\n",
    "    ------\n",
    "    The best fitted ALS model with highest accuracy score on validation data\n",
    "    \"\"\"\n",
    "    # initial\n",
    "    max_accuracy = 0\n",
    "    best_rank = -1\n",
    "    best_regularization = 0\n",
    "    best_model = None\n",
    "    \n",
    "\n",
    "    \n",
    "    udf_convert_bol = udf(lambda x: 1 if x>0.5 else 0, IntegerType())\n",
    "    \n",
    "    for rank in ranks:\n",
    "        for reg in regParams:\n",
    "            # get ALS model\n",
    "            als = ALS(userCol=\"userId\", itemCol=\"songId\", ratingCol=\"value\").setMaxIter(maxIter).setRank(rank).setRegParam(reg)\n",
    "            # train ALS model\n",
    "            model = als.fit(train_data)\n",
    "            # evaluate the model by computing the RMSE on the validation data\n",
    "            \n",
    "            predictions_train = model.transform(train_data)\n",
    "            predictions_validation = model.transform(validation_data)\n",
    "                      \n",
    "            #get boolean\n",
    "            predictions_train = predictions_train.withColumn('prediction_bol',udf_convert_bol(predictions_train.prediction))\n",
    "            predictions_validation = predictions_validation.withColumn('prediction_bol',udf_convert_bol(predictions_validation.prediction))\n",
    "            \n",
    "            #get correct variable\n",
    "            predictions_train = predictions_train.withColumn('correct',col('prediction_bol')==col('value'))\n",
    "            predictions_validation = predictions_validation.withColumn('correct',col('prediction_bol')==col('value'))\n",
    "            \n",
    "            accuracy_train = predictions_train \\\n",
    "                            .agg(avg(col(\"correct\").cast(IntegerType())).alias('average') ) \\\n",
    "                            .collect()[0].asDict()['average']\n",
    "            \n",
    "            accuracy_validation = predictions_validation \\\n",
    "                            .agg(avg(col(\"correct\").cast(IntegerType())).alias('average')) \\\n",
    "                            .collect()[0].asDict()['average']\n",
    "            \n",
    "            precission_train = predictions_train \\\n",
    "                            .filter(col('prediction_bol')==1) \\\n",
    "                            .agg(avg(col(\"correct\").cast(IntegerType())).alias('average')) \\\n",
    "                            .collect()[0].asDict()['average']\n",
    "            \n",
    "            precission_validation = predictions_validation \\\n",
    "                            .filter(col('prediction_bol')==1) \\\n",
    "                            .agg(avg(col(\"correct\").cast(IntegerType())).alias('average')) \\\n",
    "                            .collect()[0].asDict()['average']\n",
    "            \n",
    "            recall_train = predictions_train \\\n",
    "                            .filter(col('value')==1) \\\n",
    "                            .agg(avg(col(\"correct\").cast(IntegerType())).alias('average')) \\\n",
    "                            .collect()[0].asDict()['average']\n",
    "            \n",
    "            recall_validation = predictions_validation \\\n",
    "                            .filter(col('value')==1) \\\n",
    "                            .agg(avg(col(\"correct\").cast(IntegerType())).alias('average')) \\\n",
    "                            .collect()[0].asDict()['average']\n",
    "            \n",
    "            print('{} latent factors and regularization = {}: \\n'\n",
    "\n",
    "                  'train accuracy is {}\\n'\n",
    "                  'train recall is {}\\n'\n",
    "                  'train precission is {}\\n'\n",
    "                   \n",
    "\n",
    "                  'validation accuracy is {}\\n'\n",
    "                  'validation recall is {}\\n'\n",
    "                  'validation precission is {}\\n'.format(rank \\\n",
    "                                                          , reg\\\n",
    "                                                          \n",
    "                                                          , accuracy_train\\\n",
    "                                                          , recall_train\\\n",
    "                                                          , precission_train\\\n",
    "                                                          \n",
    "                                                          , accuracy_validation\\\n",
    "                                                          , recall_validation\\\n",
    "                                                          , precission_validation))\n",
    "                                                  \n",
    "            if accuracy_validation > max_accuracy:\n",
    "                max_accuracy = accuracy_validation\n",
    "                best_rank = rank\n",
    "                best_regularization = reg\n",
    "                best_model = model\n",
    "                \n",
    "    print('\\nThe best model has {} latent factors and '\n",
    "          'regularization = {}'.format(best_rank, best_regularization))\n",
    "    return predictions_validation, best_model"
   ]
  },
  {
   "cell_type": "markdown",
   "metadata": {},
   "source": [
    "## Model Training"
   ]
  },
  {
   "cell_type": "markdown",
   "metadata": {},
   "source": [
    "##### Split the Dataset and Filter the Test Data only for Song and User available in Train"
   ]
  },
  {
   "cell_type": "code",
   "execution_count": 8,
   "metadata": {},
   "outputs": [
    {
     "data": {
      "application/vnd.jupyter.widget-view+json": {
       "model_id": "b09afa9c44874e62b9e8f1ea176ea124",
       "version_major": 2,
       "version_minor": 0
      },
      "text/plain": [
       "VBox()"
      ]
     },
     "metadata": {},
     "output_type": "display_data"
    },
    {
     "data": {
      "application/vnd.jupyter.widget-view+json": {
       "model_id": "",
       "version_major": 2,
       "version_minor": 0
      },
      "text/plain": [
       "FloatProgress(value=0.0, bar_style='info', description='Progress:', layout=Layout(height='25px', width='50%'),…"
      ]
     },
     "metadata": {},
     "output_type": "display_data"
    }
   ],
   "source": [
    "#create split train and test, and filter test only for value available in train\n",
    "train, test = df_rating.randomSplit([0.7,0.3],seed=42)\n",
    "\n",
    "train.createOrReplaceTempView(\"train\")\n",
    "test.createOrReplaceTempView(\"test\")\n",
    "\n",
    "clean_test = spark.sql('''\n",
    "    select *\n",
    "    from test a \n",
    "    where a.userId in (select b.userId from train b)\n",
    "          and a.songId in (select c.songId from train c)\n",
    "\n",
    "''')"
   ]
  },
  {
   "cell_type": "markdown",
   "metadata": {},
   "source": [
    "##### Try first model with following hyperparameter\n",
    "\n",
    "We will rebuild the first model with following hyperparameter:\n",
    " - maxIter = 10\n",
    " - regParams = 0.05\n",
    " - ranks = 20"
   ]
  },
  {
   "cell_type": "code",
   "execution_count": 10,
   "metadata": {},
   "outputs": [
    {
     "data": {
      "application/vnd.jupyter.widget-view+json": {
       "model_id": "d77be9f1827d49e994da928a7daaca91",
       "version_major": 2,
       "version_minor": 0
      },
      "text/plain": [
       "VBox()"
      ]
     },
     "metadata": {},
     "output_type": "display_data"
    },
    {
     "data": {
      "application/vnd.jupyter.widget-view+json": {
       "model_id": "",
       "version_major": 2,
       "version_minor": 0
      },
      "text/plain": [
       "FloatProgress(value=0.0, bar_style='info', description='Progress:', layout=Layout(height='25px', width='50%'),…"
      ]
     },
     "metadata": {},
     "output_type": "display_data"
    },
    {
     "name": "stdout",
     "output_type": "stream",
     "text": [
      "20 latent factors and regularization = 0.05: \n",
      "train accuracy is 0.8805544240091231\n",
      "train recall is 0.9504484726043391\n",
      "train precission is 0.9086967811450426\n",
      "validation accuracy is 0.8860862574506779\n",
      "validation recall is 0.962892507322604\n",
      "validation precission is 0.9047913602206707\n",
      "\n",
      "\n",
      "The best model has 20 latent factors and regularization = 0.05"
     ]
    }
   ],
   "source": [
    "prediction,model = tune_ALS(train,clean_test, 10, [0.05],[20])"
   ]
  },
  {
   "cell_type": "code",
   "execution_count": 11,
   "metadata": {},
   "outputs": [
    {
     "data": {
      "application/vnd.jupyter.widget-view+json": {
       "model_id": "d76b33e16df54607a3cc04e2c2c0e270",
       "version_major": 2,
       "version_minor": 0
      },
      "text/plain": [
       "VBox()"
      ]
     },
     "metadata": {},
     "output_type": "display_data"
    },
    {
     "data": {
      "application/vnd.jupyter.widget-view+json": {
       "model_id": "",
       "version_major": 2,
       "version_minor": 0
      },
      "text/plain": [
       "FloatProgress(value=0.0, bar_style='info', description='Progress:', layout=Layout(height='25px', width='50%'),…"
      ]
     },
     "metadata": {},
     "output_type": "display_data"
    },
    {
     "name": "stdout",
     "output_type": "stream",
     "text": [
      "384804"
     ]
    }
   ],
   "source": [
    "prediction.count()"
   ]
  },
  {
   "cell_type": "markdown",
   "metadata": {},
   "source": [
    "##### Let's Take a look on Confusion Matrix"
   ]
  },
  {
   "cell_type": "code",
   "execution_count": 12,
   "metadata": {},
   "outputs": [
    {
     "data": {
      "application/vnd.jupyter.widget-view+json": {
       "model_id": "8dc9f74de494448791e80c1986346578",
       "version_major": 2,
       "version_minor": 0
      },
      "text/plain": [
       "VBox()"
      ]
     },
     "metadata": {},
     "output_type": "display_data"
    },
    {
     "data": {
      "application/vnd.jupyter.widget-view+json": {
       "model_id": "",
       "version_major": 2,
       "version_minor": 0
      },
      "text/plain": [
       "FloatProgress(value=0.0, bar_style='info', description='Progress:', layout=Layout(height='25px', width='50%'),…"
      ]
     },
     "metadata": {},
     "output_type": "display_data"
    }
   ],
   "source": [
    "TP = prediction.filter(col(\"correct\")==1).filter(col('value')==1).count()\n",
    "TN = prediction.filter(col(\"correct\")==1).filter(col('value')==0).count()\n",
    "FP = prediction.filter(col(\"correct\")==0).filter(col('value')==0).count()\n",
    "FN = prediction.filter(col(\"correct\")==0).filter(col('value')==1).count()\n"
   ]
  },
  {
   "cell_type": "code",
   "execution_count": 13,
   "metadata": {},
   "outputs": [
    {
     "data": {
      "application/vnd.jupyter.widget-view+json": {
       "model_id": "9ded4ed7a43445fa89d6f52f9971ca72",
       "version_major": 2,
       "version_minor": 0
      },
      "text/plain": [
       "VBox()"
      ]
     },
     "metadata": {},
     "output_type": "display_data"
    },
    {
     "data": {
      "application/vnd.jupyter.widget-view+json": {
       "model_id": "",
       "version_major": 2,
       "version_minor": 0
      },
      "text/plain": [
       "FloatProgress(value=0.0, bar_style='info', description='Progress:', layout=Layout(height='25px', width='50%'),…"
      ]
     },
     "metadata": {},
     "output_type": "display_data"
    },
    {
     "name": "stdout",
     "output_type": "stream",
     "text": [
      "305589\n",
      "35167\n",
      "32133\n",
      "11688"
     ]
    }
   ],
   "source": [
    "print(TP)\n",
    "print(TN)\n",
    "print(FP)\n",
    "print(FN)"
   ]
  },
  {
   "cell_type": "markdown",
   "metadata": {},
   "source": [
    "###### try second model with different hyperparameter\n",
    "We will rebuild the first model with following hyperparameter:\n",
    " - maxIter = 10\n",
    " - regParams = 0.05\n",
    " - ranks = 30"
   ]
  },
  {
   "cell_type": "code",
   "execution_count": 9,
   "metadata": {},
   "outputs": [
    {
     "data": {
      "application/vnd.jupyter.widget-view+json": {
       "model_id": "19794281ccfb4bf7a95345867ce22c7e",
       "version_major": 2,
       "version_minor": 0
      },
      "text/plain": [
       "VBox()"
      ]
     },
     "metadata": {},
     "output_type": "display_data"
    },
    {
     "data": {
      "application/vnd.jupyter.widget-view+json": {
       "model_id": "",
       "version_major": 2,
       "version_minor": 0
      },
      "text/plain": [
       "FloatProgress(value=0.0, bar_style='info', description='Progress:', layout=Layout(height='25px', width='50%'),…"
      ]
     },
     "metadata": {},
     "output_type": "display_data"
    },
    {
     "name": "stdout",
     "output_type": "stream",
     "text": [
      "30 latent factors and regularization = 0.05: \n",
      "train accuracy is 0.8862011184885742\n",
      "train recall is 0.9508521465463636\n",
      "train precission is 0.9148280123483324\n",
      "validation accuracy is 0.8912287355217119\n",
      "validation recall is 0.9636562767510952\n",
      "validation precission is 0.9105597247441092\n",
      "\n",
      "\n",
      "The best model has 30 latent factors and regularization = 0.05"
     ]
    }
   ],
   "source": [
    "# Refining Model by finding best hyperparameter\n",
    "prediction_2,model_2 = tune_ALS(train,clean_test, 10, [0.05],[30])"
   ]
  },
  {
   "cell_type": "markdown",
   "metadata": {},
   "source": [
    "##### Let's Take a look on Confusion Matrix"
   ]
  },
  {
   "cell_type": "code",
   "execution_count": 10,
   "metadata": {},
   "outputs": [
    {
     "data": {
      "application/vnd.jupyter.widget-view+json": {
       "model_id": "be3570f35d3f40f2b9134a4318ee124e",
       "version_major": 2,
       "version_minor": 0
      },
      "text/plain": [
       "VBox()"
      ]
     },
     "metadata": {},
     "output_type": "display_data"
    },
    {
     "data": {
      "application/vnd.jupyter.widget-view+json": {
       "model_id": "",
       "version_major": 2,
       "version_minor": 0
      },
      "text/plain": [
       "FloatProgress(value=0.0, bar_style='info', description='Progress:', layout=Layout(height='25px', width='50%'),…"
      ]
     },
     "metadata": {},
     "output_type": "display_data"
    }
   ],
   "source": [
    "TP_2 = prediction_2.filter(col(\"correct\")==1).filter(col('value')==1).count()\n",
    "TN_2 = prediction_2.filter(col(\"correct\")==1).filter(col('value')==0).count()\n",
    "FP_2 = prediction_2.filter(col(\"correct\")==0).filter(col('value')==0).count()\n",
    "FN_2 = prediction_2.filter(col(\"correct\")==0).filter(col('value')==1).count()"
   ]
  },
  {
   "cell_type": "code",
   "execution_count": 11,
   "metadata": {},
   "outputs": [
    {
     "data": {
      "application/vnd.jupyter.widget-view+json": {
       "model_id": "20664041a50c4741bd3f938923a21903",
       "version_major": 2,
       "version_minor": 0
      },
      "text/plain": [
       "VBox()"
      ]
     },
     "metadata": {},
     "output_type": "display_data"
    },
    {
     "data": {
      "application/vnd.jupyter.widget-view+json": {
       "model_id": "",
       "version_major": 2,
       "version_minor": 0
      },
      "text/plain": [
       "FloatProgress(value=0.0, bar_style='info', description='Progress:', layout=Layout(height='25px', width='50%'),…"
      ]
     },
     "metadata": {},
     "output_type": "display_data"
    },
    {
     "name": "stdout",
     "output_type": "stream",
     "text": [
      "305818\n",
      "37194\n",
      "29954\n",
      "11488"
     ]
    }
   ],
   "source": [
    "print(TP_2)\n",
    "print(TN_2)\n",
    "print(FP_2)\n",
    "print(FN_2)"
   ]
  },
  {
   "cell_type": "markdown",
   "metadata": {},
   "source": [
    "## Let's give a recommendation for user 1000025"
   ]
  },
  {
   "cell_type": "markdown",
   "metadata": {},
   "source": [
    "##### Model Rebuild\n",
    "We will rebuild the first model with following hyperparameter:\n",
    " - maxIter = 10\n",
    " - regParams = 0.05\n",
    " - ranks = 20"
   ]
  },
  {
   "cell_type": "code",
   "execution_count": 13,
   "metadata": {},
   "outputs": [
    {
     "data": {
      "application/vnd.jupyter.widget-view+json": {
       "model_id": "ad3d956c7cdf4636b2d9aa11b48759ca",
       "version_major": 2,
       "version_minor": 0
      },
      "text/plain": [
       "VBox()"
      ]
     },
     "metadata": {},
     "output_type": "display_data"
    },
    {
     "data": {
      "application/vnd.jupyter.widget-view+json": {
       "model_id": "",
       "version_major": 2,
       "version_minor": 0
      },
      "text/plain": [
       "FloatProgress(value=0.0, bar_style='info', description='Progress:', layout=Layout(height='25px', width='50%'),…"
      ]
     },
     "metadata": {},
     "output_type": "display_data"
    },
    {
     "name": "stdout",
     "output_type": "stream",
     "text": [
      "20 latent factors and regularization = 0.05: \n",
      "train accuracy is 0.8807497810904003\n",
      "train recall is 0.950859461434618\n",
      "train precission is 0.908615839435724\n",
      "validation accuracy is 0.8857612150540708\n",
      "validation recall is 0.9630784233539904\n",
      "validation precission is 0.9042101962825807\n",
      "\n",
      "\n",
      "The best model has 20 latent factors and regularization = 0.05"
     ]
    }
   ],
   "source": [
    "#Rebuild the model\n",
    "prediction, model = tune_ALS(train,clean_test, 10, [0.05],[20])"
   ]
  },
  {
   "cell_type": "code",
   "execution_count": 14,
   "metadata": {},
   "outputs": [
    {
     "data": {
      "application/vnd.jupyter.widget-view+json": {
       "model_id": "b782bedb5c664c62ae9eb60cd76a54c1",
       "version_major": 2,
       "version_minor": 0
      },
      "text/plain": [
       "VBox()"
      ]
     },
     "metadata": {},
     "output_type": "display_data"
    },
    {
     "data": {
      "application/vnd.jupyter.widget-view+json": {
       "model_id": "",
       "version_major": 2,
       "version_minor": 0
      },
      "text/plain": [
       "FloatProgress(value=0.0, bar_style='info', description='Progress:', layout=Layout(height='25px', width='50%'),…"
      ]
     },
     "metadata": {},
     "output_type": "display_data"
    },
    {
     "name": "stdout",
     "output_type": "stream",
     "text": [
      "+-------+--------------------+-----+--------+\n",
      "| userId|                song|value|  songId|\n",
      "+-------+--------------------+-----+--------+\n",
      "|1000025|    17 Hippies-Adieu|1.000| 67783.0|\n",
      "|1000025|Afroman-Crazy Rap...|1.000| 11885.0|\n",
      "|1000025|Air France-Windmi...|1.000|  3448.0|\n",
      "|1000025|Alan Silvestri-Ou...|0.000|113992.0|\n",
      "|1000025|Alicia Keys-Un-th...|1.000|  1324.0|\n",
      "|1000025|Alliance Ethnik-S...|1.000|    14.0|\n",
      "|1000025|Andres Calamaro-L...|1.000|  9941.0|\n",
      "|1000025|  Andrew Bird-Effigy|1.000|  9460.0|\n",
      "|1000025|B.o.B-Nothin' On ...|1.000|    19.0|\n",
      "|1000025|Barry Tuckwell/Ac...|1.000|     4.0|\n",
      "|1000025|     BeyoncÃÂ©-Halo|1.000|    61.0|\n",
      "|1000025|Big Drill Car-The...|1.000|  3537.0|\n",
      "|1000025|  Bloc Party-Banquet|0.000|  1260.0|\n",
      "|1000025|    Bo Diddley-Pills|1.000|  3066.0|\n",
      "|1000025|Boys Noize-Shine ...|1.000|  1347.0|\n",
      "|1000025|Buscemi-Couleurs ...|1.000| 10603.0|\n",
      "|1000025|CafÃÂ© Tacvba-El...|1.000|  7340.0|\n",
      "|1000025|Chris Cornell-Bla...|1.000| 40469.0|\n",
      "|1000025|Chris Isaak-Have ...|1.000| 90834.0|\n",
      "|1000025|Chris Thile-Big S...|1.000| 34919.0|\n",
      "+-------+--------------------+-----+--------+\n",
      "only showing top 20 rows"
     ]
    }
   ],
   "source": [
    "train.show()"
   ]
  },
  {
   "cell_type": "markdown",
   "metadata": {},
   "source": [
    "##### Create Dataframe that contains all songs with target userId for predicting the value"
   ]
  },
  {
   "cell_type": "code",
   "execution_count": 34,
   "metadata": {},
   "outputs": [
    {
     "data": {
      "application/vnd.jupyter.widget-view+json": {
       "model_id": "043a9f3fc81e489589365a7769d4e668",
       "version_major": 2,
       "version_minor": 0
      },
      "text/plain": [
       "VBox()"
      ]
     },
     "metadata": {},
     "output_type": "display_data"
    },
    {
     "data": {
      "application/vnd.jupyter.widget-view+json": {
       "model_id": "",
       "version_major": 2,
       "version_minor": 0
      },
      "text/plain": [
       "FloatProgress(value=0.0, bar_style='info', description='Progress:', layout=Layout(height='25px', width='50%'),…"
      ]
     },
     "metadata": {},
     "output_type": "display_data"
    }
   ],
   "source": [
    "to_predict = spark.sql('''\n",
    "    select songId, song,1000025 as userId\n",
    "    from train\n",
    "    group by 1,2\n",
    "''')"
   ]
  },
  {
   "cell_type": "markdown",
   "metadata": {},
   "source": [
    "###### Predict The song Value and Filter the rated song in Train data and sort by Prediction value"
   ]
  },
  {
   "cell_type": "code",
   "execution_count": 44,
   "metadata": {},
   "outputs": [
    {
     "data": {
      "application/vnd.jupyter.widget-view+json": {
       "model_id": "5eee8ed3ece14e96886beef8fb5c692b",
       "version_major": 2,
       "version_minor": 0
      },
      "text/plain": [
       "VBox()"
      ]
     },
     "metadata": {},
     "output_type": "display_data"
    },
    {
     "data": {
      "application/vnd.jupyter.widget-view+json": {
       "model_id": "",
       "version_major": 2,
       "version_minor": 0
      },
      "text/plain": [
       "FloatProgress(value=0.0, bar_style='info', description='Progress:', layout=Layout(height='25px', width='50%'),…"
      ]
     },
     "metadata": {},
     "output_type": "display_data"
    },
    {
     "name": "stdout",
     "output_type": "stream",
     "text": [
      "+-------+--------------------+-------+----------+\n",
      "| songId|                song| userId|prediction|\n",
      "+-------+--------------------+-------+----------+\n",
      "|15792.0|Charly GarcÃÂ­a-...|1000025| 1.1071172|\n",
      "|17187.0|Neutral Milk Hote...|1000025| 1.1034241|\n",
      "|35172.0|Farmakon-Loosely ...|1000025| 1.1016318|\n",
      "| 1896.0|Streetlight Manif...|1000025| 1.0840064|\n",
      "|23337.0|Van Halen-Can't G...|1000025| 1.0835639|\n",
      "|24889.0|Rikarena-Ella Es ...|1000025|  1.082952|\n",
      "|12560.0|Sneaker Pimps-Six...|1000025| 1.0769445|\n",
      "|10872.0|blessthefall-God ...|1000025| 1.0760309|\n",
      "|15883.0|G. Love-Ain't Tha...|1000025|  1.075892|\n",
      "| 5652.0|Interpol-Pioneer ...|1000025| 1.0757957|\n",
      "+-------+--------------------+-------+----------+"
     ]
    }
   ],
   "source": [
    "song_predict = model.transform(to_predict)\n",
    "song_predict.createOrReplaceTempView(\"rec\")\n",
    "\n",
    "spark.sql('''\n",
    "    select a.*\n",
    "    from rec a \n",
    "    left join train b on a.songId=b.songId and a.userId = b.userId\n",
    "    where b.userId is null\n",
    "    and prediction <10 --to prevent unlimited value\n",
    "    order by prediction desc\n",
    "    limit 10\n",
    "\n",
    "''').show()"
   ]
  },
  {
   "cell_type": "code",
   "execution_count": null,
   "metadata": {},
   "outputs": [],
   "source": []
  }
 ],
 "metadata": {
  "kernelspec": {
   "display_name": "PySpark",
   "language": "",
   "name": "pysparkkernel"
  },
  "language_info": {
   "codemirror_mode": {
    "name": "python",
    "version": 2
   },
   "mimetype": "text/x-python",
   "name": "pyspark",
   "pygments_lexer": "python2"
  }
 },
 "nbformat": 4,
 "nbformat_minor": 2
}
